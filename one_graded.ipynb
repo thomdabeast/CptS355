{
 "cells": [
  {
   "cell_type": "markdown",
   "metadata": {},
   "source": [
    "Your name: Thom Hemenway"
   ]
  },
  {
   "cell_type": "code",
   "execution_count": 76,
   "metadata": {
    "collapsed": false
   },
   "outputs": [],
   "source": [
    "def makettable(s1,s2):\n",
    "    table = {}\n",
    "    \n",
    "    # Create table\n",
    "    for i in range(len(s1)):\n",
    "        table[s1[i]] = s2[i]\n",
    "    \n",
    "    return table\n"
   ]
  },
  {
   "cell_type": "code",
   "execution_count": 77,
   "metadata": {
    "collapsed": false
   },
   "outputs": [],
   "source": [
    "def trans(ttable, s):\n",
    "    t = \"\"\n",
    "    \n",
    "    # Get character from table, otherwise just give us the character from the string\n",
    "    for c in s:\n",
    "        t += ttable.get(c, c)\n",
    "    \n",
    "    return t"
   ]
  },
  {
   "cell_type": "code",
   "execution_count": 78,
   "metadata": {
    "collapsed": false,
    "scrolled": true
   },
   "outputs": [
    {
     "data": {
      "text/plain": [
       "True"
      ]
     },
     "execution_count": 78,
     "metadata": {},
     "output_type": "execute_result"
    }
   ],
   "source": [
    "# function to test translation code\n",
    "# return True if successful, False if any test fails\n",
    "def testtrans():\n",
    "    ttable = makettable('abc', 'xyz')\n",
    "    revttable = makettable('xyz', 'abc')\n",
    "    tests = \"Now I know my abc's\"\n",
    "    answer = \"Now I know my xyz's\"\n",
    "    if trans(ttable, tests) != answer: return False\n",
    "    if trans(revttable, trans(ttable, tests)) != \"Now I know mb abc's\": return False\n",
    "    if trans(ttable,'') != '': return False\n",
    "    if trans(makettable('',''), \"abc\") != 'abc': return False\n",
    "    if trans(makettable('',''), \"\") != '': return False\n",
    "    return True\n",
    "testtrans()"
   ]
  },
  {
   "cell_type": "markdown",
   "metadata": {},
   "source": [
    "## Comment\n",
    "* The algorithm is well designed.\n",
    "* The coding style is elegant."
   ]
  },
  {
   "cell_type": "code",
   "execution_count": 2,
   "metadata": {
    "collapsed": true
   },
   "outputs": [],
   "source": [
    "Score = {}\n",
    "Score[\"warmup\"] = 30"
   ]
  },
  {
   "cell_type": "code",
   "execution_count": 3,
   "metadata": {
    "collapsed": true
   },
   "outputs": [],
   "source": [
    "# <summary>\n",
    "#   Sorting algorithm to sort keys with same value\n",
    "# </summary>\n",
    "# <Parameters>\n",
    "#   <l> List of pairs to sort</l>\n",
    "#   <rev> Reverse variable for sorted() function</rev>\n",
    "# </Parameters>\n",
    "def sort_same_freq(l, rev):\n",
    "    returnList = []\n",
    "    listDi = []\n",
    "    \n",
    "    for (key, value) in l:\n",
    "        if len(listDi) > 0:\n",
    "            # Sort if we reached a new number of occurances\n",
    "            if value != listDi[0][1]:\n",
    "                # attach to return list\n",
    "                returnList.extend(sorted(listDi, reverse=rev))\n",
    "                listDi = []\n",
    "        # Add tuple\n",
    "        listDi.append((key,value))\n",
    "    # Add last sorted list\n",
    "    returnList.extend(sorted(listDi, reverse=rev))\n",
    "    return returnList"
   ]
  },
  {
   "cell_type": "code",
   "execution_count": 4,
   "metadata": {
    "collapsed": false
   },
   "outputs": [],
   "source": [
    "def histo(s):\n",
    "    d = {}\n",
    "    \n",
    "    # Make histogram\n",
    "    for c in s:\n",
    "        # Don't need newline or return line\n",
    "        if (c != '\\n') and (c != '\\r'):\n",
    "            d[c] = d.get(c, 0) + 1\n",
    "    \n",
    "    # Return sorted table\n",
    "    return sort_same_freq(sorted(d.items(), key=lambda item: (item[1], item[0])), True)"
   ]
  },
  {
   "cell_type": "code",
   "execution_count": 5,
   "metadata": {
    "collapsed": false
   },
   "outputs": [
    {
     "data": {
      "text/plain": [
       "True"
      ]
     },
     "execution_count": 5,
     "metadata": {},
     "output_type": "execute_result"
    }
   ],
   "source": [
    "def testhisto():\n",
    "    if histo('implemented') == []: return False\n",
    "    if histo('') != []: return False\n",
    "    if histo('aacbbabccdedfefgih') == []: return False\n",
    "    return True\n",
    "testhisto()"
   ]
  },
  {
   "cell_type": "markdown",
   "metadata": {},
   "source": [
    "## Bravo\n",
    "## Comment\n",
    "* The algorithm is well designed and thoughtful.\n",
    "* The coding style is elegant.\n",
    "* Good to see the assisted function sort_same_freq().\n",
    "* The unit test is thorough."
   ]
  },
  {
   "cell_type": "code",
   "execution_count": 6,
   "metadata": {
    "collapsed": true
   },
   "outputs": [],
   "source": [
    "Score[\"histo\"] = 30\n",
    "Score[\"testhisto\"] = 5"
   ]
  },
  {
   "cell_type": "code",
   "execution_count": 88,
   "metadata": {
    "collapsed": false
   },
   "outputs": [],
   "source": [
    "def digraphs(s):\n",
    "    l = {}\n",
    "    \n",
    "    # Create pair and add to dictionary\n",
    "    for i in range(len(s)-1):\n",
    "        if (s[i] != '\\n') and (s[i] != '\\r'):\n",
    "            f = '/'+s[i]+s[i+1]+'/'\n",
    "            l[f] = l.get(f, 0) + 1\n",
    "    \n",
    "    # sort by same value; sort same freq in increasing order\n",
    "    return sort_same_freq(sorted(l.items(), key=lambda item: (item[1], item[0]), reverse=True), False)"
   ]
  },
  {
   "cell_type": "code",
   "execution_count": 89,
   "metadata": {
    "collapsed": false,
    "scrolled": true
   },
   "outputs": [
    {
     "name": "stdout",
     "output_type": "stream",
     "text": [
      "[('/ h/', 3), ('/e /', 3), ('/he/', 3), ('/../', 2), ('/er/', 2), ('/ha/', 2), ('/ H/', 1), ('/ W/', 1), ('/ b/', 1), ('/ d/', 1), ('/ g/', 1), ('/ t/', 1), ('/? /', 1), ('/He/', 1), ('/Wh/', 1), ('/Wi/', 1), ('/an/', 1), ('/as/', 1), ('/by/', 1), ('/d /', 1), ('/d./', 1), ('/di/', 1), ('/go/', 1), ('/id/', 1), ('/il/', 1), ('/l /', 1), ('/ll/', 1), ('/nd/', 1), ('/o?/', 1), ('/r /', 1), ('/re/', 1), ('/s /', 1), ('/th/', 1), ('/y /', 1)]\n",
      "\n",
      "[('/ha/', 9), ('/ah/', 8)]\n",
      "\n",
      "[]\n",
      "\n",
      "[('/../', 5)]\n",
      "[('/../', 6)]\n"
     ]
    }
   ],
   "source": [
    "def testdigraphs():\n",
    "    print(digraphs(\"Where did Will go? He has her by the hand...\"))\n",
    "    print()\n",
    "    print(digraphs(\"hahahahahahahahaha\"))\n",
    "    print()\n",
    "    print(digraphs('a'))\n",
    "    print()\n",
    "    print(digraphs('......'))\n",
    "    print(digraphs('.......'))\n",
    "testdigraphs()"
   ]
  },
  {
   "cell_type": "markdown",
   "metadata": {},
   "source": [
    "## Comment\n",
    "* The algorithm is well designed and thoughtful.\n",
    "* The coding style is elegant.\n",
    "* The unit test is thorough though, it misleads the direction of what the unit test should be. It should compare the output of digraph() with some groundtruth given. If they are equal, return true. Otherwise, return false. Here just print some outputs but who will check if the correctness of them?"
   ]
  },
  {
   "cell_type": "code",
   "execution_count": 7,
   "metadata": {
    "collapsed": true
   },
   "outputs": [],
   "source": [
    "Score[\"digraph\"] = 30\n",
    "Score[\"testdigraph\"] = 4"
   ]
  },
  {
   "cell_type": "code",
   "execution_count": 90,
   "metadata": {
    "collapsed": false,
    "scrolled": false
   },
   "outputs": [
    {
     "name": "stdout",
     "output_type": "stream",
     "text": [
      "ENCRYPTION KEY\n",
      "Z -> t\n",
      "W -> r\n",
      "L -> v\n",
      "B -> z\n",
      "M -> n\n",
      "V -> i\n",
      "E -> k\n",
      "S -> l\n",
      "F -> m\n",
      "Q -> d\n",
      "P -> p\n",
      "C -> q\n",
      "D -> x\n",
      "Y -> h\n",
      "R -> a\n",
      "X -> e\n",
      "H -> b\n",
      "G -> g\n",
      "T -> u\n",
      "U -> c\n",
      "O -> y\n",
      "J -> f\n",
      "K -> s\n",
      "I -> w\n",
      "N -> o\n"
     ]
    },
    {
     "data": {
      "text/plain": [
       "'the reticulated python lives in rain forests, woodlands, and nearby grasslands. it is also associated with rivers and is found in areas with nearby streams and lakes. an excellent swimmer, it has even been reported far out at sea and has consequently colonized many small islands within its range. during the early years of the twentieth century it is said to have been common even in busy parts of bangkok, sometimes eating domestic animals.  their natural diet includes mammals and occasionally birds. small specimens up to 3–4 m (9.8–13.1 ft) long eat mainly rodents such as rats, whereas larger individuals switch to prey such as viverridae (e.g. civets and binturongs), and even primates and pigs. near human habitation, they are known to snatch stray chickens, cats, and dogs on occasion. among the largest, fully documented prey items to have been taken are a half-starved sun bear of 23 kilograms that was eaten by a 6.95 m (22.8 ft) specimen and took some ten weeks to digest as well as pigs of more than 60 kg (132 lb). as a rule of thumb, these snakes seem able to swallow prey up to one-quarter their own length and up to their own weight. as with all pythons, they are primarily ambush hunters, usually waiting until prey wanders within strike range before seizing it in their coils and killing via constriction. however, there is at least one documented case of a foraging python entering a forest hut and taking a child. (en.wikipedia.org/wiki/python_reticulatus)'"
      ]
     },
     "execution_count": 90,
     "metadata": {},
     "output_type": "execute_result"
    }
   ],
   "source": [
    "crypt = \"\"\"ZYX WXZVUTSRZXQ POZYNM SVLXK VM WRVM JNWXKZK, INNQSRMQK, RMQ MXRWHO\n",
    "GWRKKSRMQK. VZ VK RSKN RKKNUVRZXQ IVZY WVLXWK RMQ VK JNTMQ VM RWXRK\n",
    "IVZY MXRWHO KZWXRFK RMQ SREXK. RM XDUXSSXMZ KIVFFXW, VZ YRK XLXM HXXM\n",
    "WXPNWZXQ JRW NTZ RZ KXR RMQ YRK UNMKXCTXMZSO UNSNMVBXQ FRMO KFRSS\n",
    "VKSRMQK IVZYVM VZK WRMGX. QTWVMG ZYX XRWSO OXRWK NJ ZYX ZIXMZVXZY\n",
    "UXMZTWO VZ VK KRVQ ZN YRLX HXXM UNFFNM XLXM VM HTKO PRWZK NJ HRMGENE,\n",
    "KNFXZVFXK XRZVMG QNFXKZVU RMVFRSK.\n",
    "\n",
    "ZYXVW MRZTWRS QVXZ VMUSTQXK FRFFRSK RMQ NUURKVNMRSSO HVWQK. KFRSS\n",
    "KPXUVFXMK TP ZN 3–4 F (9.8–13.1 JZ) SNMG XRZ FRVMSO WNQXMZK KTUY RK\n",
    "WRZK, IYXWXRK SRWGXW VMQVLVQTRSK KIVZUY ZN PWXO KTUY RK LVLXWWVQRX\n",
    "(X.G. UVLXZK RMQ HVMZTWNMGK), RMQ XLXM PWVFRZXK RMQ PVGK. MXRW YTFRM\n",
    "YRHVZRZVNM, ZYXO RWX EMNIM ZN KMRZUY KZWRO UYVUEXMK, URZK, RMQ QNGK NM\n",
    "NUURKVNM. RFNMG ZYX SRWGXKZ, JTSSO QNUTFXMZXQ PWXO VZXFK ZN YRLX HXXM\n",
    "ZREXM RWX R YRSJ-KZRWLXQ KTM HXRW NJ 23 EVSNGWRFK ZYRZ IRK XRZXM HO R\n",
    "6.95 F (22.8 JZ) KPXUVFXM RMQ ZNNE KNFX ZXM IXXEK ZN QVGXKZ RK IXSS RK\n",
    "PVGK NJ FNWX ZYRM 60 EG (132 SH). RK R WTSX NJ ZYTFH, ZYXKX KMREXK\n",
    "KXXF RHSX ZN KIRSSNI PWXO TP ZN NMX-CTRWZXW ZYXVW NIM SXMGZY RMQ TP ZN\n",
    "ZYXVW NIM IXVGYZ. RK IVZY RSS POZYNMK, ZYXO RWX PWVFRWVSO RFHTKY\n",
    "YTMZXWK, TKTRSSO IRVZVMG TMZVS PWXO IRMQXWK IVZYVM KZWVEX WRMGX HXJNWX\n",
    "KXVBVMG VZ VM ZYXVW UNVSK RMQ EVSSVMG LVR UNMKZWVUZVNM. YNIXLXW, ZYXWX\n",
    "VK RZ SXRKZ NMX QNUTFXMZXQ URKX NJ R JNWRGVMG POZYNM XMZXWVMG R JNWXKZ\n",
    "YTZ RMQ ZREVMG R UYVSQ. (XM.IVEVPXQVR.NWG/IVEV/POZYNM_WXZVUTSRZTK)\"\"\"\n",
    "\n",
    "# Get rid of newline char\n",
    "crypt = crypt.replace('\\n', ' ')\n",
    "\n",
    "# Initializing ttable\n",
    "keytable = makettable('ZY', 'th')\n",
    "\n",
    "# Added characters gradually\n",
    "keytable[\"K\"] = 's'\n",
    "keytable[\"T\"] = 'u'\n",
    "keytable[\"M\"] = 'n'\n",
    "keytable[\"R\"] = 'a'\n",
    "keytable['X'] = 'e'\n",
    "keytable[\"Q\"] = 'd'\n",
    "keytable[\"E\"] = 'k'\n",
    "keytable[\"S\"] = 'l'\n",
    "keytable[\"V\"] = 'i'\n",
    "keytable[\"P\"] = 'p'\n",
    "keytable['N'] = 'o'\n",
    "keytable[\"U\"] = 'c'\n",
    "keytable[\"I\"] = 'w'\n",
    "keytable[\"G\"] = 'g'\n",
    "keytable['W'] = 'r'\n",
    "keytable[\"J\"] = 'f'\n",
    "keytable[\"O\"] = 'y'\n",
    "keytable[\"H\"] = 'b'\n",
    "keytable[\"L\"] = 'v'\n",
    "keytable[\"F\"] = 'm'\n",
    "keytable[\"D\"] = 'x'\n",
    "keytable[\"C\"] = 'q'\n",
    "keytable[\"B\"] = 'z'\n",
    "\n",
    "# Print table\n",
    "print(\"ENCRYPTION KEY\")\n",
    "for key, value in iter(keytable.items()):\n",
    "    print(\"{0} -> {1}\".format(key, value))\n",
    "\n",
    "trans(keytable, crypt)"
   ]
  },
  {
   "cell_type": "markdown",
   "metadata": {
    "collapsed": true
   },
   "source": [
    "## Awesome\n",
    "* Though you don't follow the instruction to demo the middle steps but just show the final answer. I give you FIVE!"
   ]
  },
  {
   "cell_type": "code",
   "execution_count": 10,
   "metadata": {
    "collapsed": true
   },
   "outputs": [],
   "source": [
    "Score[\"extra\"] = 5"
   ]
  },
  {
   "cell_type": "code",
   "execution_count": 11,
   "metadata": {
    "collapsed": false
   },
   "outputs": [
    {
     "name": "stdout",
     "output_type": "stream",
     "text": [
      "104\n"
     ]
    }
   ],
   "source": [
    "FinalScore = sum(Score.values())\n",
    "print(FinalScore)"
   ]
  },
  {
   "cell_type": "markdown",
   "metadata": {},
   "source": [
    "# Summary\n",
    "## Good Job!\n",
    "## FinalScore = 104\n",
    "* The algorithms are well designed and thoughtful.\n",
    "* The coding style is elegant.\n",
    "* The testing is very thorough.\n",
    "* The quality reaches the criteria of software engineering."
   ]
  }
 ],
 "metadata": {
  "kernelspec": {
   "display_name": "Python 3",
   "language": "python",
   "name": "python3"
  },
  "language_info": {
   "codemirror_mode": {
    "name": "ipython",
    "version": 3
   },
   "file_extension": ".py",
   "mimetype": "text/x-python",
   "name": "python",
   "nbconvert_exporter": "python",
   "pygments_lexer": "ipython3",
   "version": "3.5.0"
  }
 },
 "nbformat": 4,
 "nbformat_minor": 0
}
