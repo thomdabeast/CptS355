{
 "cells": [
  {
   "cell_type": "code",
   "execution_count": 2,
   "metadata": {
    "collapsed": false
   },
   "outputs": [],
   "source": [
    "opstack = []\n",
    "\n",
    "def opPop(): \n",
    "    return opstack.pop()\n",
    "\n",
    "def opPush(value):\n",
    "    opstack.append(value)\n",
    "    return True"
   ]
  },
  {
   "cell_type": "code",
   "execution_count": 3,
   "metadata": {
    "collapsed": true
   },
   "outputs": [],
   "source": [
    "dictstack = [{}]\n",
    "\n",
    "def dictPop():\n",
    "    return dictstack.pop()\n",
    "\n",
    "# add new dictionary\n",
    "def dictPush():\n",
    "    dictstack.append({})\n",
    "    return True\n",
    "\n",
    "def define(name, value):\n",
    "    # add definition on top dicitonary\n",
    "    dictstack[-1][name] = value\n",
    "    return True\n",
    "\n",
    "def lookup(name):\n",
    "    # reverse to look at top of stack when iterating\n",
    "    dictstack.reverse()\n",
    "    for d in dictstack:\n",
    "        for k, v in d.items():\n",
    "            # found\n",
    "            if name == k:\n",
    "                r = v\n",
    "                dictstack.reverse()\n",
    "                return r\n",
    "    # revert back to it's normal self\n",
    "    dictstack.reverse()\n",
    "    return "
   ]
  },
  {
   "cell_type": "code",
   "execution_count": 4,
   "metadata": {
    "collapsed": false
   },
   "outputs": [],
   "source": [
    "def checkVar(value):\n",
    "    value = str(value) \n",
    "    # find out if it's a variable or actual number\n",
    "    if (value[0] == '-' and value[1:].isdigit()) or value.isdigit():\n",
    "        value = int(value)\n",
    "    else:\n",
    "        value = lookup(var1)\n",
    "    return value\n",
    "\n",
    "def add():    \n",
    "    opPush(checkVar(opPop()) + checkVar(opPop()))\n",
    "def sub():\n",
    "    opPush(checkVar(opPop()) - checkVar(opPop()))\n",
    "def mul():\n",
    "    opPush(checkVar(opPop()) * checkVar(opPop()))\n",
    "def div():\n",
    "    opPush(checkVar(opPop()) / checkVar(opPop()))\n",
    "def eq():\n",
    "    opPush(checkVar(opPop()) == checkVar(opPop()))\n",
    "def lt():\n",
    "    opPush(checkVar(opPop()) < checkVar(opPop()))\n",
    "def gt():\n",
    "    opPush(checkVar(opPop()) > checkVar(opPop()))"
   ]
  },
  {
   "cell_type": "markdown",
   "metadata": {},
   "source": [
    "## Comment\n",
    "* Think about the order of the opPop(). The first opPop() is the second operand (op2), and the second opPop() is the first operand (op1). So it may lead to some problems in `/`, `<`, and `>`. The order is reversed.\n",
    "* At this stage, it does not require type checking."
   ]
  },
  {
   "cell_type": "code",
   "execution_count": 5,
   "metadata": {
    "collapsed": false
   },
   "outputs": [],
   "source": [
    "def psand():\n",
    "    opPush(opPop() and opPop())\n",
    "def psnot():\n",
    "    opPush(not opPop())\n",
    "def psor():\n",
    "    opPush(opPop() or opPop())"
   ]
  },
  {
   "cell_type": "code",
   "execution_count": 6,
   "metadata": {
    "collapsed": false
   },
   "outputs": [],
   "source": [
    "def dup():\n",
    "    opPush(opstack[-1])\n",
    "def exch():\n",
    "    val1 = opPop()\n",
    "    val2 = opPop()\n",
    "    opPush(val1)\n",
    "    opPush(val2)\n",
    "def pop():\n",
    "    opPop()"
   ]
  },
  {
   "cell_type": "code",
   "execution_count": 7,
   "metadata": {
    "collapsed": false
   },
   "outputs": [],
   "source": [
    "def dictz():\n",
    "    opPush({})\n",
    "def begin():\n",
    "    top = opPop()\n",
    "    # only move dictionaries\n",
    "    if type(top) is dict:\n",
    "        dictPush(top)\n",
    "        return True\n",
    "    else:\n",
    "        print(\"ERROR: Can't move non-dictionary type to dictionary stack.\")\n",
    "        return False\n",
    "    \n",
    "def end():\n",
    "    # pop dictionary stack\n",
    "    dictPop()\n",
    "    \n",
    "def psDef():\n",
    "    var1 = opPop()\n",
    "    var2 = opPop()\n",
    "    # is var2 a variable name\n",
    "    if type(var2) is not str:\n",
    "        return False\n",
    "    # create new dictionary\n",
    "    dictPush()\n",
    "    # add variable \n",
    "    define(var2, var1)\n",
    "    return True\n"
   ]
  },
  {
   "cell_type": "code",
   "execution_count": 8,
   "metadata": {
    "collapsed": true
   },
   "outputs": [],
   "source": [
    "def equals():\n",
    "    print(opPop())\n",
    "    \n",
    "def stack():\n",
    "    for item in opstack:\n",
    "        print(item)"
   ]
  },
  {
   "cell_type": "markdown",
   "metadata": {},
   "source": [
    "## Comment\n",
    "* It may be printed reversely so that the top of the stack will be shown first."
   ]
  },
  {
   "cell_type": "code",
   "execution_count": null,
   "metadata": {
    "collapsed": true
   },
   "outputs": [],
   "source": [
    "def testMath():\n",
    "    opPush(1)\n",
    "    opPush(2)\n",
    "    add()\n",
    "    if opPop() != 3: return False   \n",
    "    opPush(5)\n",
    "    opPush(5)\n",
    "    mul()\n",
    "    if opPop() != 25: return False\n",
    "    opPush(2)\n",
    "    opPush(4)\n",
    "    sub()\n",
    "    if opPop() != 2: return False\n",
    "    opPush(2)\n",
    "    opPush(4)\n",
    "    div()\n",
    "    if opPop() != 2: return False\n",
    "    opPush(1)\n",
    "    opPush(1)\n",
    "    eq()\n",
    "    if not opPop(): return False\n",
    "    opPush(3)\n",
    "    opPush(1)\n",
    "    gt()\n",
    "    if opPop(): return False\n",
    "    opPush(1)\n",
    "    opPush(3)\n",
    "    lt()\n",
    "    if opPop(): return False\n",
    "    return True\n",
    "\n",
    "def testLookup():\n",
    "    opPush(\"n1\")\n",
    "    opPush(3)\n",
    "    psDef()\n",
    "    if lookup(\"n1\") != 3: return False\n",
    "    return True\n",
    "\n",
    "def testBool():\n",
    "    # test and\n",
    "    opPush(True)\n",
    "    opPush(False)\n",
    "    psand()\n",
    "    if opPop():\n",
    "        return False\n",
    "\n",
    "    #test not\n",
    "    opPush(False)\n",
    "    psnot()\n",
    "    if not opPop():\n",
    "        return False\n",
    "    \n",
    "    # test or\n",
    "    opPush(False)\n",
    "    opPush(False)\n",
    "    psor()\n",
    "    if opPop():\n",
    "        return False\n",
    "    \n",
    "    return True\n",
    "\n",
    "def testDupExch():\n",
    "    opPush(1)\n",
    "    dup()\n",
    "    s = opPop()\n",
    "    t = opPop()\n",
    "    \n",
    "    if not s == t == 1:\n",
    "        return False\n",
    "    \n",
    "    opPush(5)\n",
    "    opPush(10)\n",
    "    exch()\n",
    "    s = opPop()\n",
    "    t = opPop()\n",
    "    if t != 10 or s != 5:\n",
    "        return False\n",
    "    return True\n",
    "\n",
    "# go on writing test code for ALL of your code here; think about edge cases, and \n",
    "# other points where you are likely to make a mistake.\n",
    "\n",
    "# now an easy way to run all the test cases and make sure that they all return true\n",
    "# is\n",
    "\n",
    "testCases = [testLookup, testBool, testDupExch, testMath]\n",
    "def testAll():\n",
    "    for test in testCases:\n",
    "        if not test(): return False\n",
    "    return True\n",
    "\n",
    "# but wouldn't it be nice to run all the tests, instead of stopping on the first failure,\n",
    "# and see which ones failed\n",
    "# How about something like:\n",
    "\n",
    "testCases = [('lookup', testLookup), ('bools', testBool), (\"dup&exch\", testDupExch), (\"math\", testMath)]\n",
    "def testAll():\n",
    "    failedTests = [testName for (testName, testProc) in testCases if not testProc()]\n",
    "    if failedTests:\n",
    "        return ('Some tests failed', failedTests)\n",
    "    else: return ('All tests OK')\n",
    "testAll()"
   ]
  },
  {
   "cell_type": "markdown",
   "metadata": {
    "collapsed": true
   },
   "source": [
    "## Summary\n",
    "## FinalScore = 98\n",
    "* The ideas on stacks are good.\n",
    "* The coding style is clean and elegant.\n",
    "* Please check the comments above."
   ]
  },
  {
   "cell_type": "code",
   "execution_count": null,
   "metadata": {
    "collapsed": true
   },
   "outputs": [],
   "source": []
  }
 ],
 "metadata": {
  "kernelspec": {
   "display_name": "Python 3",
   "language": "python",
   "name": "python3"
  },
  "language_info": {
   "codemirror_mode": {
    "name": "ipython",
    "version": 3
   },
   "file_extension": ".py",
   "mimetype": "text/x-python",
   "name": "python",
   "nbconvert_exporter": "python",
   "pygments_lexer": "ipython3",
   "version": "3.5.0"
  }
 },
 "nbformat": 4,
 "nbformat_minor": 0
}
