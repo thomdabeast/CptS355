# arithmetic ops: add, sub, mul, div, eq, lt, gt
# bool ops: and, or, not
# stack ops: dup, exch, pop
# dictz, begin, end, def


# The operand stack: define the operand stack and its operations in this notebook cell
class Stack:
	def __init__(self):
		self.data = []
	def push(self, var):
		self.opstack.append(var)
	
	def pop(self):
		return self.opstack.pop()
	
opstack = []
# The dictionary stack: define the dictionary stack and its operations in this cell
dictstack = []

# now define functions to push and pop values on the opstack according to your decision about which
# end should be the hot end.

def opPop(): 
    pass

def opPush(value):
    pass

# Remember that there is a Postscript operator called "pop" so we choose different names for these functions.


# now define functions to push and pop dictionaries on the dictstack, to define name, and to lookup a name

def dictPop():
    pass

def dictPush():
    pass

def define(name, value):
    pass

def lookup(name):
    pass
    # return the value associated with name
    # what is your design decision about what to do when there is no definition for name